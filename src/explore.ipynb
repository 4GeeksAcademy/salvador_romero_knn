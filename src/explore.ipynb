{
    "cells": [
        {
            "cell_type": "markdown",
            "metadata": {},
            "source": [
                "# Explore here"
            ]
        },
        {
            "cell_type": "code",
            "execution_count": 12,
            "metadata": {},
            "outputs": [
                {
                    "name": "stdout",
                    "output_type": "stream",
                    "text": [
                        "<class 'pandas.core.frame.DataFrame'>\n",
                        "Index: 1359 entries, 0 to 1598\n",
                        "Data columns (total 12 columns):\n",
                        " #   Column                Non-Null Count  Dtype  \n",
                        "---  ------                --------------  -----  \n",
                        " 0   fixed acidity         1359 non-null   float64\n",
                        " 1   volatile acidity      1359 non-null   float64\n",
                        " 2   citric acid           1359 non-null   float64\n",
                        " 3   residual sugar        1359 non-null   float64\n",
                        " 4   chlorides             1359 non-null   float64\n",
                        " 5   free sulfur dioxide   1359 non-null   float64\n",
                        " 6   total sulfur dioxide  1359 non-null   float64\n",
                        " 7   density               1359 non-null   float64\n",
                        " 8   pH                    1359 non-null   float64\n",
                        " 9   sulphates             1359 non-null   float64\n",
                        " 10  alcohol               1359 non-null   float64\n",
                        " 11  quality               1359 non-null   int64  \n",
                        "dtypes: float64(11), int64(1)\n",
                        "memory usage: 138.0 KB\n"
                    ]
                }
            ],
            "source": [
                "# Your code here\n",
                "import pandas as pd\n",
                "data = pd.read_csv(\"https://raw.githubusercontent.com/4GeeksAcademy/k-nearest-neighbors-project-tutorial/refs/heads/main/winequality-red.csv\",sep=\";\")\n",
                "data_uniques = data.drop_duplicates().dropna()\n",
                "data_uniques.info()"
            ]
        },
        {
            "cell_type": "code",
            "execution_count": 26,
            "metadata": {},
            "outputs": [
                {
                    "data": {
                        "text/plain": [
                            "quality\n",
                            "5    577\n",
                            "6    535\n",
                            "7    167\n",
                            "4     53\n",
                            "8     17\n",
                            "3     10\n",
                            "Name: count, dtype: int64"
                        ]
                    },
                    "execution_count": 26,
                    "metadata": {},
                    "output_type": "execute_result"
                }
            ],
            "source": [
                "data_uniques[\"quality\"].value_counts()"
            ]
        },
        {
            "cell_type": "code",
            "execution_count": 14,
            "metadata": {},
            "outputs": [],
            "source": [
                "def agroup_qual(q):\n",
                "    if q<5:\n",
                "        return 0\n",
                "    elif q<7:\n",
                "        return 1\n",
                "    else:\n",
                "        return 2\n",
                "\n",
                "data_uniques[\"quality_gr\"]=data_uniques[\"quality\"].apply(agroup_qual)"
            ]
        },
        {
            "cell_type": "code",
            "execution_count": 19,
            "metadata": {},
            "outputs": [],
            "source": [
                "from sklearn.model_selection import train_test_split\n",
                "from sklearn.metrics import accuracy_score\n",
                "from sklearn.neighbors import KNeighborsClassifier\n",
                "\n",
                "X = data_uniques.drop(columns=[\"quality\",\"quality_gr\"],axis=1)\n",
                "Y = data_uniques[\"quality_gr\"]\n",
                "x_train,x_test,y_train,y_test = train_test_split(X,Y,random_state=8,test_size=0.2)"
            ]
        },
        {
            "cell_type": "code",
            "execution_count": 20,
            "metadata": {},
            "outputs": [],
            "source": [
                "from sklearn.preprocessing import MinMaxScaler\n",
                "\n",
                "scaler = MinMaxScaler()\n",
                "scaler.fit(x_train)\n",
                "\n",
                "x_train_sc = scaler.transform(x_train)\n",
                "data_scal = pd.DataFrame(x_train_sc, index = x_train.index,columns=x_train.columns)\n",
                "x_test_sc = scaler.transform(x_test)\n",
                "x_test_sc = pd.DataFrame(x_test_sc, index = x_test.index,columns=x_test.columns)\n"
            ]
        },
        {
            "cell_type": "code",
            "execution_count": 21,
            "metadata": {},
            "outputs": [
                {
                    "name": "stderr",
                    "output_type": "stream",
                    "text": [
                        "/home/vscode/.local/lib/python3.11/site-packages/sklearn/utils/validation.py:2732: UserWarning: X has feature names, but KNeighborsClassifier was fitted without feature names\n",
                        "  warnings.warn(\n"
                    ]
                },
                {
                    "data": {
                        "text/plain": [
                            "0.8345588235294118"
                        ]
                    },
                    "execution_count": 21,
                    "metadata": {},
                    "output_type": "execute_result"
                }
            ],
            "source": [
                "\n",
                "model = KNeighborsClassifier()\n",
                "model.fit(x_train_sc,y_train)\n",
                "y_pred = model.predict(x_test_sc)\n",
                "score = accuracy_score(y_test,y_pred)\n",
                "score"
            ]
        },
        {
            "cell_type": "code",
            "execution_count": 25,
            "metadata": {},
            "outputs": [
                {
                    "name": "stdout",
                    "output_type": "stream",
                    "text": [
                        "Best:\n",
                        "  K = 6\n",
                        "  Metric = braycurtis\n",
                        "  Score = 0.8713235294117647\n"
                    ]
                }
            ],
            "source": [
                "import warnings\n",
                "warnings.filterwarnings('ignore')\n",
                "\n",
                "metrics = ['chebyshev', 'dice', 'sokalmichener', 'braycurtis', 'sokalsneath', 'russellrao', 'l2', 'sqeuclidean', 'nan_euclidean', 'minkowski', 'euclidean', 'l1', 'yule', 'infinity', 'canberra', 'manhattan', 'cityblock', 'p', 'hamming', 'cosine', 'correlation']\n",
                "max_met=\"\"\n",
                "max_score=0\n",
                "max_k=0\n",
                "for i in range(1,21):\n",
                "    for j in metrics:\n",
                "        model = KNeighborsClassifier(n_neighbors=i,metric=j)\n",
                "        model.fit(x_train_sc,y_train)\n",
                "        y_pred = model.predict(x_test_sc)\n",
                "        score = accuracy_score(y_test,y_pred)\n",
                "        if score > max_score:\n",
                "            max_k=i\n",
                "            max_score=score\n",
                "            max_met=j\n",
                "        \n",
                "print(f\"Best:\\n  K = {max_k}\\n  Metric = {max_met}\\n  Score = {max_score}\")"
            ]
        }
    ],
    "metadata": {
        "kernelspec": {
            "display_name": "Python 3",
            "language": "python",
            "name": "python3"
        },
        "language_info": {
            "codemirror_mode": {
                "name": "ipython",
                "version": 3
            },
            "file_extension": ".py",
            "mimetype": "text/x-python",
            "name": "python",
            "nbconvert_exporter": "python",
            "pygments_lexer": "ipython3",
            "version": "3.11.4"
        },
        "orig_nbformat": 4
    },
    "nbformat": 4,
    "nbformat_minor": 2
}
